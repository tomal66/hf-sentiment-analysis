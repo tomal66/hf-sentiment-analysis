{
 "cells": [
  {
   "cell_type": "code",
   "execution_count": 1,
   "id": "ecd276df",
   "metadata": {},
   "outputs": [
    {
     "name": "stdout",
     "output_type": "stream",
     "text": [
      "Requirement already satisfied: fsspec in /home/tomal66/jupyter_env/lib/python3.12/site-packages (2025.3.2)\n",
      "Requirement already satisfied: s3fs in /home/tomal66/jupyter_env/lib/python3.12/site-packages (2025.3.2)\n",
      "Requirement already satisfied: aiobotocore<3.0.0,>=2.5.4 in /home/tomal66/jupyter_env/lib/python3.12/site-packages (from s3fs) (2.21.1)\n",
      "Requirement already satisfied: aiohttp!=4.0.0a0,!=4.0.0a1 in /home/tomal66/jupyter_env/lib/python3.12/site-packages (from s3fs) (3.11.16)\n",
      "Requirement already satisfied: aioitertools<1.0.0,>=0.5.1 in /home/tomal66/jupyter_env/lib/python3.12/site-packages (from aiobotocore<3.0.0,>=2.5.4->s3fs) (0.12.0)\n",
      "Requirement already satisfied: botocore<1.37.2,>=1.37.0 in /home/tomal66/jupyter_env/lib/python3.12/site-packages (from aiobotocore<3.0.0,>=2.5.4->s3fs) (1.37.1)\n",
      "Requirement already satisfied: python-dateutil<3.0.0,>=2.1 in /home/tomal66/jupyter_env/lib/python3.12/site-packages (from aiobotocore<3.0.0,>=2.5.4->s3fs) (2.9.0.post0)\n",
      "Requirement already satisfied: jmespath<2.0.0,>=0.7.1 in /home/tomal66/jupyter_env/lib/python3.12/site-packages (from aiobotocore<3.0.0,>=2.5.4->s3fs) (1.0.1)\n",
      "Requirement already satisfied: multidict<7.0.0,>=6.0.0 in /home/tomal66/jupyter_env/lib/python3.12/site-packages (from aiobotocore<3.0.0,>=2.5.4->s3fs) (6.4.3)\n",
      "Requirement already satisfied: wrapt<2.0.0,>=1.10.10 in /home/tomal66/jupyter_env/lib/python3.12/site-packages (from aiobotocore<3.0.0,>=2.5.4->s3fs) (1.17.2)\n",
      "Requirement already satisfied: aiohappyeyeballs>=2.3.0 in /home/tomal66/jupyter_env/lib/python3.12/site-packages (from aiohttp!=4.0.0a0,!=4.0.0a1->s3fs) (2.6.1)\n",
      "Requirement already satisfied: aiosignal>=1.1.2 in /home/tomal66/jupyter_env/lib/python3.12/site-packages (from aiohttp!=4.0.0a0,!=4.0.0a1->s3fs) (1.3.2)\n",
      "Requirement already satisfied: attrs>=17.3.0 in /home/tomal66/jupyter_env/lib/python3.12/site-packages (from aiohttp!=4.0.0a0,!=4.0.0a1->s3fs) (25.3.0)\n",
      "Requirement already satisfied: frozenlist>=1.1.1 in /home/tomal66/jupyter_env/lib/python3.12/site-packages (from aiohttp!=4.0.0a0,!=4.0.0a1->s3fs) (1.5.0)\n",
      "Requirement already satisfied: propcache>=0.2.0 in /home/tomal66/jupyter_env/lib/python3.12/site-packages (from aiohttp!=4.0.0a0,!=4.0.0a1->s3fs) (0.3.1)\n",
      "Requirement already satisfied: yarl<2.0,>=1.17.0 in /home/tomal66/jupyter_env/lib/python3.12/site-packages (from aiohttp!=4.0.0a0,!=4.0.0a1->s3fs) (1.19.0)\n",
      "Requirement already satisfied: urllib3!=2.2.0,<3,>=1.25.4 in /home/tomal66/jupyter_env/lib/python3.12/site-packages (from botocore<1.37.2,>=1.37.0->aiobotocore<3.0.0,>=2.5.4->s3fs) (2.4.0)\n",
      "Requirement already satisfied: six>=1.5 in /home/tomal66/jupyter_env/lib/python3.12/site-packages (from python-dateutil<3.0.0,>=2.1->aiobotocore<3.0.0,>=2.5.4->s3fs) (1.17.0)\n",
      "Requirement already satisfied: idna>=2.0 in /home/tomal66/jupyter_env/lib/python3.12/site-packages (from yarl<2.0,>=1.17.0->aiohttp!=4.0.0a0,!=4.0.0a1->s3fs) (3.10)\n",
      "Requirement already satisfied: huggingface_hub in /home/tomal66/jupyter_env/lib/python3.12/site-packages (0.30.2)\n",
      "Requirement already satisfied: filelock in /home/tomal66/jupyter_env/lib/python3.12/site-packages (from huggingface_hub) (3.18.0)\n",
      "Requirement already satisfied: fsspec>=2023.5.0 in /home/tomal66/jupyter_env/lib/python3.12/site-packages (from huggingface_hub) (2025.3.2)\n",
      "Requirement already satisfied: packaging>=20.9 in /home/tomal66/jupyter_env/lib/python3.12/site-packages (from huggingface_hub) (24.2)\n",
      "Requirement already satisfied: pyyaml>=5.1 in /home/tomal66/jupyter_env/lib/python3.12/site-packages (from huggingface_hub) (6.0.2)\n",
      "Requirement already satisfied: requests in /home/tomal66/jupyter_env/lib/python3.12/site-packages (from huggingface_hub) (2.32.3)\n",
      "Requirement already satisfied: tqdm>=4.42.1 in /home/tomal66/jupyter_env/lib/python3.12/site-packages (from huggingface_hub) (4.67.1)\n",
      "Requirement already satisfied: typing-extensions>=3.7.4.3 in /home/tomal66/jupyter_env/lib/python3.12/site-packages (from huggingface_hub) (4.13.2)\n",
      "Requirement already satisfied: charset-normalizer<4,>=2 in /home/tomal66/jupyter_env/lib/python3.12/site-packages (from requests->huggingface_hub) (3.4.1)\n",
      "Requirement already satisfied: idna<4,>=2.5 in /home/tomal66/jupyter_env/lib/python3.12/site-packages (from requests->huggingface_hub) (3.10)\n",
      "Requirement already satisfied: urllib3<3,>=1.21.1 in /home/tomal66/jupyter_env/lib/python3.12/site-packages (from requests->huggingface_hub) (2.4.0)\n",
      "Requirement already satisfied: certifi>=2017.4.17 in /home/tomal66/jupyter_env/lib/python3.12/site-packages (from requests->huggingface_hub) (2025.1.31)\n"
     ]
    },
    {
     "name": "stderr",
     "output_type": "stream",
     "text": [
      "2025-04-21 11:24:17.211076: E external/local_xla/xla/stream_executor/cuda/cuda_fft.cc:467] Unable to register cuFFT factory: Attempting to register factory for plugin cuFFT when one has already been registered\n",
      "WARNING: All log messages before absl::InitializeLog() is called are written to STDERR\n",
      "E0000 00:00:1745213057.265403   50762 cuda_dnn.cc:8579] Unable to register cuDNN factory: Attempting to register factory for plugin cuDNN when one has already been registered\n",
      "E0000 00:00:1745213057.276368   50762 cuda_blas.cc:1407] Unable to register cuBLAS factory: Attempting to register factory for plugin cuBLAS when one has already been registered\n",
      "W0000 00:00:1745213057.308645   50762 computation_placer.cc:177] computation placer already registered. Please check linkage and avoid linking the same target more than once.\n",
      "W0000 00:00:1745213057.308686   50762 computation_placer.cc:177] computation placer already registered. Please check linkage and avoid linking the same target more than once.\n",
      "W0000 00:00:1745213057.308688   50762 computation_placer.cc:177] computation placer already registered. Please check linkage and avoid linking the same target more than once.\n",
      "W0000 00:00:1745213057.308690   50762 computation_placer.cc:177] computation placer already registered. Please check linkage and avoid linking the same target more than once.\n",
      "2025-04-21 11:24:17.318008: I tensorflow/core/platform/cpu_feature_guard.cc:210] This TensorFlow binary is optimized to use available CPU instructions in performance-critical operations.\n",
      "To enable the following instructions: AVX2 FMA, in other operations, rebuild TensorFlow with the appropriate compiler flags.\n"
     ]
    }
   ],
   "source": [
    "# ==============================#\n",
    "# 0.  Install / import packages #\n",
    "# ==============================#\n",
    "!pip install fsspec s3fs \n",
    "!pip install --upgrade huggingface_hub\n",
    "\n",
    "import re\n",
    "import numpy as np\n",
    "import pandas as pd\n",
    "import tensorflow as tf\n",
    "import matplotlib.pyplot as plt\n",
    "from tensorflow.keras.preprocessing.text import Tokenizer\n",
    "from tensorflow.keras.preprocessing.sequence import pad_sequences\n"
   ]
  },
  {
   "cell_type": "code",
   "execution_count": 2,
   "id": "90bd3d96",
   "metadata": {},
   "outputs": [
    {
     "name": "stdout",
     "output_type": "stream",
     "text": [
      "Train / Val / Test sizes: 31232 5205 5206\n"
     ]
    },
    {
     "data": {
      "text/html": [
       "<div>\n",
       "<style scoped>\n",
       "    .dataframe tbody tr th:only-of-type {\n",
       "        vertical-align: middle;\n",
       "    }\n",
       "\n",
       "    .dataframe tbody tr th {\n",
       "        vertical-align: top;\n",
       "    }\n",
       "\n",
       "    .dataframe thead th {\n",
       "        text-align: right;\n",
       "    }\n",
       "</style>\n",
       "<table border=\"1\" class=\"dataframe\">\n",
       "  <thead>\n",
       "    <tr style=\"text-align: right;\">\n",
       "      <th></th>\n",
       "      <th>id</th>\n",
       "      <th>text</th>\n",
       "      <th>label</th>\n",
       "      <th>sentiment</th>\n",
       "    </tr>\n",
       "  </thead>\n",
       "  <tbody>\n",
       "    <tr>\n",
       "      <th>0</th>\n",
       "      <td>9536</td>\n",
       "      <td>Cooking microwave pizzas, yummy</td>\n",
       "      <td>2</td>\n",
       "      <td>positive</td>\n",
       "    </tr>\n",
       "    <tr>\n",
       "      <th>1</th>\n",
       "      <td>6135</td>\n",
       "      <td>Any plans of allowing sub tasks to show up in ...</td>\n",
       "      <td>1</td>\n",
       "      <td>neutral</td>\n",
       "    </tr>\n",
       "    <tr>\n",
       "      <th>2</th>\n",
       "      <td>17697</td>\n",
       "      <td>I love the humor, I just reworded it. Like sa...</td>\n",
       "      <td>2</td>\n",
       "      <td>positive</td>\n",
       "    </tr>\n",
       "    <tr>\n",
       "      <th>3</th>\n",
       "      <td>14182</td>\n",
       "      <td>naw idk what ur talkin about</td>\n",
       "      <td>1</td>\n",
       "      <td>neutral</td>\n",
       "    </tr>\n",
       "    <tr>\n",
       "      <th>4</th>\n",
       "      <td>17840</td>\n",
       "      <td>That sucks to hear. I hate days like that</td>\n",
       "      <td>0</td>\n",
       "      <td>negative</td>\n",
       "    </tr>\n",
       "  </tbody>\n",
       "</table>\n",
       "</div>"
      ],
      "text/plain": [
       "      id                                               text  label sentiment\n",
       "0   9536                    Cooking microwave pizzas, yummy      2  positive\n",
       "1   6135  Any plans of allowing sub tasks to show up in ...      1   neutral\n",
       "2  17697   I love the humor, I just reworded it. Like sa...      2  positive\n",
       "3  14182                       naw idk what ur talkin about      1   neutral\n",
       "4  17840          That sucks to hear. I hate days like that      0  negative"
      ]
     },
     "execution_count": 2,
     "metadata": {},
     "output_type": "execute_result"
    }
   ],
   "source": [
    "# ==============================#\n",
    "# 1.  Load Hugging Face splits  #\n",
    "# ==============================#\n",
    "DATASET_ROOT = \"hf://datasets/Sp1786/multiclass-sentiment-analysis-dataset/\"\n",
    "splits      = {\"train\": \"train_df.csv\",\n",
    "               \"validation\": \"val_df.csv\",\n",
    "               \"test\": \"test_df.csv\"}\n",
    "\n",
    "train_df = pd.read_csv(DATASET_ROOT + splits[\"train\"])\n",
    "val_df   = pd.read_csv(DATASET_ROOT + splits[\"validation\"])\n",
    "test_df  = pd.read_csv(DATASET_ROOT + splits[\"test\"])\n",
    "\n",
    "print(\"Train / Val / Test sizes:\",\n",
    "      len(train_df), len(val_df), len(test_df))\n",
    "train_df.head()\n"
   ]
  },
  {
   "cell_type": "code",
   "execution_count": 3,
   "id": "ed12925f",
   "metadata": {},
   "outputs": [],
   "source": [
    "# ===========================================#\n",
    "# 2.  Cleaning helper and basic text cleanup #\n",
    "#      (fixed for NaN values in \"text\")      #\n",
    "# ===========================================#\n",
    "def clean_text(text: str) -> str:\n",
    "    if pd.isna(text):        # handle missing entries\n",
    "        return \"\"\n",
    "    text = re.sub(r'<.*?>', '', text)        # strip HTML\n",
    "    text = re.sub(r'[^a-zA-Z\\s]', '', text)  # keep letters / spaces only\n",
    "    return text.lower().strip()\n",
    "\n",
    "for split in (train_df, val_df, test_df):\n",
    "    split[\"text\"] = split[\"text\"].fillna(\"\").apply(clean_text)\n"
   ]
  },
  {
   "cell_type": "code",
   "execution_count": 4,
   "id": "5048fd3c",
   "metadata": {},
   "outputs": [],
   "source": [
    "# ============================================#\n",
    "# 3.  Tokenization -> integer sequences, pad  #\n",
    "# ============================================#\n",
    "VOCAB_SIZE = 20_000\n",
    "MAX_LEN    = 200\n",
    "\n",
    "tokenizer = Tokenizer(num_words=VOCAB_SIZE,\n",
    "                      oov_token=\"<OOV>\")\n",
    "tokenizer.fit_on_texts(train_df[\"text\"])\n",
    "\n",
    "def text_to_padded(text_series):\n",
    "    seqs = tokenizer.texts_to_sequences(text_series)\n",
    "    return pad_sequences(seqs, maxlen=MAX_LEN,\n",
    "                         padding=\"post\", truncating=\"post\")\n",
    "\n",
    "X_train = text_to_padded(train_df[\"text\"])\n",
    "X_val   = text_to_padded(val_df[\"text\"])\n",
    "X_test  = text_to_padded(test_df[\"text\"])\n",
    "\n",
    "y_train = train_df[\"label\"].values\n",
    "y_val   = val_df[\"label\"].values\n",
    "y_test  = test_df[\"label\"].values\n"
   ]
  },
  {
   "cell_type": "code",
   "execution_count": 5,
   "id": "a8feb385",
   "metadata": {},
   "outputs": [
    {
     "name": "stderr",
     "output_type": "stream",
     "text": [
      "/home/tomal66/jupyter_env/lib/python3.12/site-packages/keras/src/layers/core/embedding.py:90: UserWarning: Argument `input_length` is deprecated. Just remove it.\n",
      "  warnings.warn(\n",
      "2025-04-21 11:24:33.872039: E external/local_xla/xla/stream_executor/cuda/cuda_platform.cc:51] failed call to cuInit: INTERNAL: CUDA error: Failed call to cuInit: UNKNOWN ERROR (303)\n"
     ]
    },
    {
     "data": {
      "text/html": [
       "<pre style=\"white-space:pre;overflow-x:auto;line-height:normal;font-family:Menlo,'DejaVu Sans Mono',consolas,'Courier New',monospace\"><span style=\"font-weight: bold\">Model: \"sequential\"</span>\n",
       "</pre>\n"
      ],
      "text/plain": [
       "\u001b[1mModel: \"sequential\"\u001b[0m\n"
      ]
     },
     "metadata": {},
     "output_type": "display_data"
    },
    {
     "data": {
      "text/html": [
       "<pre style=\"white-space:pre;overflow-x:auto;line-height:normal;font-family:Menlo,'DejaVu Sans Mono',consolas,'Courier New',monospace\">┏━━━━━━━━━━━━━━━━━━━━━━━━━━━━━━━━━┳━━━━━━━━━━━━━━━━━━━━━━━━┳━━━━━━━━━━━━━━━┓\n",
       "┃<span style=\"font-weight: bold\"> Layer (type)                    </span>┃<span style=\"font-weight: bold\"> Output Shape           </span>┃<span style=\"font-weight: bold\">       Param # </span>┃\n",
       "┡━━━━━━━━━━━━━━━━━━━━━━━━━━━━━━━━━╇━━━━━━━━━━━━━━━━━━━━━━━━╇━━━━━━━━━━━━━━━┩\n",
       "│ embedding (<span style=\"color: #0087ff; text-decoration-color: #0087ff\">Embedding</span>)           │ ?                      │   <span style=\"color: #00af00; text-decoration-color: #00af00\">0</span> (unbuilt) │\n",
       "├─────────────────────────────────┼────────────────────────┼───────────────┤\n",
       "│ bidirectional (<span style=\"color: #0087ff; text-decoration-color: #0087ff\">Bidirectional</span>)   │ ?                      │   <span style=\"color: #00af00; text-decoration-color: #00af00\">0</span> (unbuilt) │\n",
       "├─────────────────────────────────┼────────────────────────┼───────────────┤\n",
       "│ dropout (<span style=\"color: #0087ff; text-decoration-color: #0087ff\">Dropout</span>)               │ ?                      │             <span style=\"color: #00af00; text-decoration-color: #00af00\">0</span> │\n",
       "├─────────────────────────────────┼────────────────────────┼───────────────┤\n",
       "│ dense (<span style=\"color: #0087ff; text-decoration-color: #0087ff\">Dense</span>)                   │ ?                      │   <span style=\"color: #00af00; text-decoration-color: #00af00\">0</span> (unbuilt) │\n",
       "├─────────────────────────────────┼────────────────────────┼───────────────┤\n",
       "│ batch_normalization             │ ?                      │   <span style=\"color: #00af00; text-decoration-color: #00af00\">0</span> (unbuilt) │\n",
       "│ (<span style=\"color: #0087ff; text-decoration-color: #0087ff\">BatchNormalization</span>)            │                        │               │\n",
       "├─────────────────────────────────┼────────────────────────┼───────────────┤\n",
       "│ dropout_1 (<span style=\"color: #0087ff; text-decoration-color: #0087ff\">Dropout</span>)             │ ?                      │             <span style=\"color: #00af00; text-decoration-color: #00af00\">0</span> │\n",
       "├─────────────────────────────────┼────────────────────────┼───────────────┤\n",
       "│ dense_1 (<span style=\"color: #0087ff; text-decoration-color: #0087ff\">Dense</span>)                 │ ?                      │   <span style=\"color: #00af00; text-decoration-color: #00af00\">0</span> (unbuilt) │\n",
       "└─────────────────────────────────┴────────────────────────┴───────────────┘\n",
       "</pre>\n"
      ],
      "text/plain": [
       "┏━━━━━━━━━━━━━━━━━━━━━━━━━━━━━━━━━┳━━━━━━━━━━━━━━━━━━━━━━━━┳━━━━━━━━━━━━━━━┓\n",
       "┃\u001b[1m \u001b[0m\u001b[1mLayer (type)                   \u001b[0m\u001b[1m \u001b[0m┃\u001b[1m \u001b[0m\u001b[1mOutput Shape          \u001b[0m\u001b[1m \u001b[0m┃\u001b[1m \u001b[0m\u001b[1m      Param #\u001b[0m\u001b[1m \u001b[0m┃\n",
       "┡━━━━━━━━━━━━━━━━━━━━━━━━━━━━━━━━━╇━━━━━━━━━━━━━━━━━━━━━━━━╇━━━━━━━━━━━━━━━┩\n",
       "│ embedding (\u001b[38;5;33mEmbedding\u001b[0m)           │ ?                      │   \u001b[38;5;34m0\u001b[0m (unbuilt) │\n",
       "├─────────────────────────────────┼────────────────────────┼───────────────┤\n",
       "│ bidirectional (\u001b[38;5;33mBidirectional\u001b[0m)   │ ?                      │   \u001b[38;5;34m0\u001b[0m (unbuilt) │\n",
       "├─────────────────────────────────┼────────────────────────┼───────────────┤\n",
       "│ dropout (\u001b[38;5;33mDropout\u001b[0m)               │ ?                      │             \u001b[38;5;34m0\u001b[0m │\n",
       "├─────────────────────────────────┼────────────────────────┼───────────────┤\n",
       "│ dense (\u001b[38;5;33mDense\u001b[0m)                   │ ?                      │   \u001b[38;5;34m0\u001b[0m (unbuilt) │\n",
       "├─────────────────────────────────┼────────────────────────┼───────────────┤\n",
       "│ batch_normalization             │ ?                      │   \u001b[38;5;34m0\u001b[0m (unbuilt) │\n",
       "│ (\u001b[38;5;33mBatchNormalization\u001b[0m)            │                        │               │\n",
       "├─────────────────────────────────┼────────────────────────┼───────────────┤\n",
       "│ dropout_1 (\u001b[38;5;33mDropout\u001b[0m)             │ ?                      │             \u001b[38;5;34m0\u001b[0m │\n",
       "├─────────────────────────────────┼────────────────────────┼───────────────┤\n",
       "│ dense_1 (\u001b[38;5;33mDense\u001b[0m)                 │ ?                      │   \u001b[38;5;34m0\u001b[0m (unbuilt) │\n",
       "└─────────────────────────────────┴────────────────────────┴───────────────┘\n"
      ]
     },
     "metadata": {},
     "output_type": "display_data"
    },
    {
     "data": {
      "text/html": [
       "<pre style=\"white-space:pre;overflow-x:auto;line-height:normal;font-family:Menlo,'DejaVu Sans Mono',consolas,'Courier New',monospace\"><span style=\"font-weight: bold\"> Total params: </span><span style=\"color: #00af00; text-decoration-color: #00af00\">0</span> (0.00 B)\n",
       "</pre>\n"
      ],
      "text/plain": [
       "\u001b[1m Total params: \u001b[0m\u001b[38;5;34m0\u001b[0m (0.00 B)\n"
      ]
     },
     "metadata": {},
     "output_type": "display_data"
    },
    {
     "data": {
      "text/html": [
       "<pre style=\"white-space:pre;overflow-x:auto;line-height:normal;font-family:Menlo,'DejaVu Sans Mono',consolas,'Courier New',monospace\"><span style=\"font-weight: bold\"> Trainable params: </span><span style=\"color: #00af00; text-decoration-color: #00af00\">0</span> (0.00 B)\n",
       "</pre>\n"
      ],
      "text/plain": [
       "\u001b[1m Trainable params: \u001b[0m\u001b[38;5;34m0\u001b[0m (0.00 B)\n"
      ]
     },
     "metadata": {},
     "output_type": "display_data"
    },
    {
     "data": {
      "text/html": [
       "<pre style=\"white-space:pre;overflow-x:auto;line-height:normal;font-family:Menlo,'DejaVu Sans Mono',consolas,'Courier New',monospace\"><span style=\"font-weight: bold\"> Non-trainable params: </span><span style=\"color: #00af00; text-decoration-color: #00af00\">0</span> (0.00 B)\n",
       "</pre>\n"
      ],
      "text/plain": [
       "\u001b[1m Non-trainable params: \u001b[0m\u001b[38;5;34m0\u001b[0m (0.00 B)\n"
      ]
     },
     "metadata": {},
     "output_type": "display_data"
    }
   ],
   "source": [
    "# ========================================================= #\n",
    "#  4. Build & compile the RNN (Bi‑LSTM) for 3‑class labels  #\n",
    "# ========================================================= #\n",
    "from tensorflow.keras.models import Sequential\n",
    "from tensorflow.keras.layers import (Embedding, Bidirectional, LSTM,\n",
    "                                     Dropout, Dense, BatchNormalization)\n",
    "from tensorflow.keras.optimizers import Adam\n",
    "from tensorflow.keras.regularizers import l2\n",
    "\n",
    "VOCAB_SIZE = 20_000   # same as tokenizer.num_words\n",
    "EMBED_DIM  = 128\n",
    "MAX_LEN    = 200      # same as padding length\n",
    "\n",
    "model = Sequential([\n",
    "    Embedding(input_dim=VOCAB_SIZE, output_dim=EMBED_DIM, input_length=MAX_LEN),\n",
    "\n",
    "    Bidirectional(LSTM(64, return_sequences=False)),\n",
    "\n",
    "    Dropout(0.5),\n",
    "\n",
    "    Dense(32, activation='relu', kernel_regularizer=l2(0.12)),\n",
    "    BatchNormalization(),\n",
    "    Dropout(0.6),\n",
    "\n",
    "    Dense(3, activation='softmax')  # ⚠️ 3 units + softmax for multi‑class\n",
    "])\n",
    "\n",
    "model.compile(\n",
    "    optimizer=Adam(learning_rate=0.003),\n",
    "    loss='sparse_categorical_crossentropy',  # ⚠️ multi‑class loss\n",
    "    metrics=['accuracy']\n",
    ")\n",
    "\n",
    "model.summary()\n"
   ]
  },
  {
   "cell_type": "code",
   "execution_count": 6,
   "id": "6d680453",
   "metadata": {},
   "outputs": [
    {
     "name": "stdout",
     "output_type": "stream",
     "text": [
      "Epoch 1/10\n",
      "\u001b[1m244/244\u001b[0m \u001b[32m━━━━━━━━━━━━━━━━━━━━\u001b[0m\u001b[37m\u001b[0m \u001b[1m172s\u001b[0m 658ms/step - accuracy: 0.4558 - loss: 2.6184 - val_accuracy: 0.3948 - val_loss: 1.0454\n",
      "Epoch 2/10\n",
      "\u001b[1m244/244\u001b[0m \u001b[32m━━━━━━━━━━━━━━━━━━━━\u001b[0m\u001b[37m\u001b[0m \u001b[1m156s\u001b[0m 638ms/step - accuracy: 0.6622 - loss: 0.7835 - val_accuracy: 0.6534 - val_loss: 0.8105\n",
      "Epoch 3/10\n",
      "\u001b[1m244/244\u001b[0m \u001b[32m━━━━━━━━━━━━━━━━━━━━\u001b[0m\u001b[37m\u001b[0m \u001b[1m162s\u001b[0m 666ms/step - accuracy: 0.7227 - loss: 0.6796 - val_accuracy: 0.6573 - val_loss: 0.8008\n",
      "Epoch 4/10\n",
      "\u001b[1m244/244\u001b[0m \u001b[32m━━━━━━━━━━━━━━━━━━━━\u001b[0m\u001b[37m\u001b[0m \u001b[1m156s\u001b[0m 638ms/step - accuracy: 0.7626 - loss: 0.6034 - val_accuracy: 0.6576 - val_loss: 0.8986\n",
      "Epoch 5/10\n",
      "\u001b[1m244/244\u001b[0m \u001b[32m━━━━━━━━━━━━━━━━━━━━\u001b[0m\u001b[37m\u001b[0m \u001b[1m158s\u001b[0m 647ms/step - accuracy: 0.7912 - loss: 0.5506 - val_accuracy: 0.6569 - val_loss: 0.9072\n",
      "Epoch 6/10\n",
      "\u001b[1m244/244\u001b[0m \u001b[32m━━━━━━━━━━━━━━━━━━━━\u001b[0m\u001b[37m\u001b[0m \u001b[1m156s\u001b[0m 638ms/step - accuracy: 0.8123 - loss: 0.5057 - val_accuracy: 0.6482 - val_loss: 0.9484\n",
      "Epoch 7/10\n",
      "\u001b[1m244/244\u001b[0m \u001b[32m━━━━━━━━━━━━━━━━━━━━\u001b[0m\u001b[37m\u001b[0m \u001b[1m136s\u001b[0m 559ms/step - accuracy: 0.8272 - loss: 0.4723 - val_accuracy: 0.6536 - val_loss: 1.0258\n",
      "Epoch 8/10\n",
      "\u001b[1m244/244\u001b[0m \u001b[32m━━━━━━━━━━━━━━━━━━━━\u001b[0m\u001b[37m\u001b[0m \u001b[1m66s\u001b[0m 272ms/step - accuracy: 0.8456 - loss: 0.4380 - val_accuracy: 0.6611 - val_loss: 1.0837\n",
      "Epoch 9/10\n",
      "\u001b[1m244/244\u001b[0m \u001b[32m━━━━━━━━━━━━━━━━━━━━\u001b[0m\u001b[37m\u001b[0m \u001b[1m71s\u001b[0m 291ms/step - accuracy: 0.8611 - loss: 0.4060 - val_accuracy: 0.6571 - val_loss: 1.2259\n",
      "Epoch 10/10\n",
      "\u001b[1m244/244\u001b[0m \u001b[32m━━━━━━━━━━━━━━━━━━━━\u001b[0m\u001b[37m\u001b[0m \u001b[1m72s\u001b[0m 293ms/step - accuracy: 0.8756 - loss: 0.3783 - val_accuracy: 0.6563 - val_loss: 1.2896\n"
     ]
    }
   ],
   "source": [
    "# ==============================#\n",
    "# 5.  Train                     #\n",
    "# ==============================#\n",
    "EPOCHS      = 10\n",
    "BATCH_SIZE  = 128\n",
    "\n",
    "history = model.fit(\n",
    "    X_train, y_train,\n",
    "    epochs=EPOCHS,\n",
    "    batch_size=BATCH_SIZE,\n",
    "    validation_data=(X_val, y_val)\n",
    ")\n"
   ]
  },
  {
   "cell_type": "code",
   "execution_count": 7,
   "id": "46f87c17",
   "metadata": {},
   "outputs": [
    {
     "data": {
      "image/png": "[encoded data removed]",
      "text/plain": [
       "<Figure size 600x400 with 1 Axes>"
      ]
     },
     "metadata": {},
     "output_type": "display_data"
    },
    {
     "data": {
      "image/png": "[encoded data removed]",
      "text/plain": [
       "<Figure size 600x400 with 1 Axes>"
      ]
     },
     "metadata": {},
     "output_type": "display_data"
    }
   ],
   "source": [
    "# =================================#\n",
    "# 6.  Plot accuracy / loss curves  #\n",
    "# =================================#\n",
    "plt.figure(figsize=(6,4))\n",
    "plt.plot(history.history[\"accuracy\"],     label=\"Train acc\")\n",
    "plt.plot(history.history[\"val_accuracy\"], label=\"Val acc\")\n",
    "plt.xlabel(\"Epoch\"); plt.ylabel(\"Accuracy\"); plt.legend(); plt.show()\n",
    "\n",
    "plt.figure(figsize=(6,4))\n",
    "plt.plot(history.history[\"loss\"],     label=\"Train loss\")\n",
    "plt.plot(history.history[\"val_loss\"], label=\"Val loss\")\n",
    "plt.xlabel(\"Epoch\"); plt.ylabel(\"Loss\"); plt.legend(); plt.show()\n"
   ]
  },
  {
   "cell_type": "code",
   "execution_count": 8,
   "id": "06b7c6c7",
   "metadata": {},
   "outputs": [
    {
     "name": "stdout",
     "output_type": "stream",
     "text": [
      "\n",
      "Test accuracy: 0.643\n"
     ]
    }
   ],
   "source": [
    "# ==============================#\n",
    "# 7.  Evaluate on the test set  #\n",
    "# ==============================#\n",
    "test_loss, test_acc = model.evaluate(X_test, y_test, verbose=0)\n",
    "print(f\"\\nTest accuracy: {test_acc:.3f}\")\n"
   ]
  },
  {
   "cell_type": "code",
   "execution_count": 9,
   "id": "0933d06f",
   "metadata": {},
   "outputs": [
    {
     "name": "stdout",
     "output_type": "stream",
     "text": [
      "Utterly disappointing; the acting felt wooden.                →  negative\n",
      "Let's play a game of chess instead.                           →  neutral\n",
      "Can't wait to see the new movie!                              →  positive\n"
     ]
    }
   ],
   "source": [
    "# ======================================#\n",
    "# 8.  Inference on custom written text  #\n",
    "# ======================================#\n",
    "INDEX2LABEL = {0: \"negative\", 1: \"neutral\", 2: \"positive\"}\n",
    "\n",
    "samples = [\n",
    "    \"Utterly disappointing; the acting felt wooden.\",\n",
    "    \"Let's play a game of chess instead.\",\n",
    "    \"Can't wait to see the new movie!\",\n",
    "]\n",
    "\n",
    "sample_pad = text_to_padded(samples)\n",
    "probs      = model.predict(sample_pad, verbose=0)\n",
    "preds      = probs.argmax(axis=1)\n",
    "\n",
    "for txt, pred in zip(samples, preds):\n",
    "    print(f\"{txt[:60]:<60}  →  {INDEX2LABEL[pred]}\")\n"
   ]
  },
  {
   "cell_type": "code",
   "execution_count": 10,
   "id": "b881f6e7",
   "metadata": {},
   "outputs": [
    {
     "name": "stderr",
     "output_type": "stream",
     "text": [
      "WARNING:absl:You are saving your model as an HDF5 file via `model.save()` or `keras.saving.save_model(model)`. This file format is considered legacy. We recommend using instead the native Keras format, e.g. `model.save('my_model.keras')` or `keras.saving.save_model(model, 'my_model.keras')`. \n"
     ]
    }
   ],
   "source": [
    "# ------------------------------------#\n",
    "#  SAVE: model + tokenizer to disk    #\n",
    "# ------------------------------------#\n",
    "WEIGHTS_PATH    = \"sentiment_bilstm_best.h5\"      # weights‑only backup (optional)\n",
    "TOKENIZER_PATH  = \"tokenizer.json\"                # vocabulary + config\n",
    "\n",
    "# ▸ A. whole model (architecture + weights + optimizer state)\n",
    "model.save(WEIGHTS_PATH)          # creates a directory with TF SavedModel format\n",
    "\n",
    "# ▸ B. save the tokenizer (needed to pre‑process new text later)\n",
    "# ✅  write the JSON string directly\n",
    "with open(TOKENIZER_PATH, \"w\", encoding=\"utf-8\") as f:\n",
    "    f.write(tokenizer.to_json())\n",
    "\n"
   ]
  },
  {
   "cell_type": "code",
   "execution_count": 11,
   "id": "afdc9418",
   "metadata": {},
   "outputs": [
    {
     "name": "stderr",
     "output_type": "stream",
     "text": [
      "WARNING:absl:Compiled the loaded model, but the compiled metrics have yet to be built. `model.compile_metrics` will be empty until you train or evaluate the model.\n"
     ]
    }
   ],
   "source": [
    "# ------------------------------------#\n",
    "#  LOAD: model + tokenizer from disk  #\n",
    "# ------------------------------------#\n",
    "import tensorflow as tf\n",
    "from tensorflow.keras.preprocessing.sequence import pad_sequences\n",
    "from tensorflow.keras.preprocessing.text import tokenizer_from_json\n",
    "\n",
    "WEIGHTS_PATH    = \"sentiment_bilstm_best.h5\"      # weights‑only backup (optional)\n",
    "TOKENIZER_PATH = \"tokenizer.json\"\n",
    "MAX_LEN        = 200          # same padding length you trained with\n",
    "\n",
    "# ▸ A. load the full model\n",
    "loaded_model = tf.keras.models.load_model(WEIGHTS_PATH)\n",
    "\n",
    "# ▸ B. load the tokenizer\n",
    "with open(TOKENIZER_PATH, \"r\", encoding=\"utf-8\") as f:\n",
    "    token_json_str = f.read()          # read as raw string\n",
    "\n",
    "loaded_tokenizer = tokenizer_from_json(token_json_str)\n"
   ]
  },
  {
   "cell_type": "code",
   "execution_count": 12,
   "id": "db9fe50d",
   "metadata": {},
   "outputs": [
    {
     "name": "stdout",
     "output_type": "stream",
     "text": [
      "\u001b[1m1/1\u001b[0m \u001b[32m━━━━━━━━━━━━━━━━━━━━\u001b[0m\u001b[37m\u001b[0m \u001b[1m0s\u001b[0m 268ms/step\n",
      "Predicted sentiment: positive\n"
     ]
    }
   ],
   "source": [
    "# ------------- quick sanity check ----------------\n",
    "sample = [\"What a wonderful day!\"]\n",
    "seq    = loaded_tokenizer.texts_to_sequences(sample)\n",
    "padded = pad_sequences(seq, maxlen=MAX_LEN, padding=\"post\", truncating=\"post\")\n",
    "pred   = loaded_model.predict(padded).argmax(axis=1)[0]\n",
    "\n",
    "label_map = {0: \"negative\", 1: \"neutral\", 2: \"positive\"}\n",
    "print(\"Predicted sentiment:\", label_map[pred])"
   ]
  }
 ],
 "metadata": {
  "kernelspec": {
   "display_name": "jupyter_env",
   "language": "python",
   "name": "python3"
  },
  "language_info": {
   "codemirror_mode": {
    "name": "ipython",
    "version": 3
   },
   "file_extension": ".py",
   "mimetype": "text/x-python",
   "name": "python",
   "nbconvert_exporter": "python",
   "pygments_lexer": "ipython3",
   "version": "3.12.3"
  }
 },
 "nbformat": 4,
 "nbformat_minor": 5
}
