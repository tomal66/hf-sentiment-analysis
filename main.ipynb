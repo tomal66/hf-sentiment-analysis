{
 "cells": [
  {
   "cell_type": "code",
   "execution_count": null,
   "id": "ecd276df",
   "metadata": {},
   "outputs": [
    {
     "name": "stdout",
     "output_type": "stream",
     "text": [
      "Requirement already satisfied: fsspec in c:\\users\\tomal\\anaconda3\\envs\\gpu\\lib\\site-packages (2025.3.2)\n",
      "Requirement already satisfied: s3fs in c:\\users\\tomal\\anaconda3\\envs\\gpu\\lib\\site-packages (2025.3.2)\n",
      "Requirement already satisfied: aiobotocore<3.0.0,>=2.5.4 in c:\\users\\tomal\\anaconda3\\envs\\gpu\\lib\\site-packages (from s3fs) (2.21.1)\n",
      "Requirement already satisfied: aiohttp!=4.0.0a0,!=4.0.0a1 in c:\\users\\tomal\\anaconda3\\envs\\gpu\\lib\\site-packages (from s3fs) (3.11.17)\n",
      "Requirement already satisfied: aioitertools<1.0.0,>=0.5.1 in c:\\users\\tomal\\anaconda3\\envs\\gpu\\lib\\site-packages (from aiobotocore<3.0.0,>=2.5.4->s3fs) (0.12.0)\n",
      "Requirement already satisfied: botocore<1.37.2,>=1.37.0 in c:\\users\\tomal\\anaconda3\\envs\\gpu\\lib\\site-packages (from aiobotocore<3.0.0,>=2.5.4->s3fs) (1.37.1)\n",
      "Requirement already satisfied: python-dateutil<3.0.0,>=2.1 in c:\\users\\tomal\\anaconda3\\envs\\gpu\\lib\\site-packages (from aiobotocore<3.0.0,>=2.5.4->s3fs) (2.9.0.post0)\n",
      "Requirement already satisfied: jmespath<2.0.0,>=0.7.1 in c:\\users\\tomal\\anaconda3\\envs\\gpu\\lib\\site-packages (from aiobotocore<3.0.0,>=2.5.4->s3fs) (1.0.1)\n",
      "Requirement already satisfied: multidict<7.0.0,>=6.0.0 in c:\\users\\tomal\\anaconda3\\envs\\gpu\\lib\\site-packages (from aiobotocore<3.0.0,>=2.5.4->s3fs) (6.4.3)\n",
      "Requirement already satisfied: wrapt<2.0.0,>=1.10.10 in c:\\users\\tomal\\anaconda3\\envs\\gpu\\lib\\site-packages (from aiobotocore<3.0.0,>=2.5.4->s3fs) (1.16.0)\n",
      "Requirement already satisfied: aiohappyeyeballs>=2.3.0 in c:\\users\\tomal\\anaconda3\\envs\\gpu\\lib\\site-packages (from aiohttp!=4.0.0a0,!=4.0.0a1->s3fs) (2.6.1)\n",
      "Requirement already satisfied: aiosignal>=1.1.2 in c:\\users\\tomal\\anaconda3\\envs\\gpu\\lib\\site-packages (from aiohttp!=4.0.0a0,!=4.0.0a1->s3fs) (1.3.2)\n",
      "Requirement already satisfied: async-timeout<6.0,>=4.0 in c:\\users\\tomal\\anaconda3\\envs\\gpu\\lib\\site-packages (from aiohttp!=4.0.0a0,!=4.0.0a1->s3fs) (5.0.1)\n",
      "Requirement already satisfied: attrs>=17.3.0 in c:\\users\\tomal\\anaconda3\\envs\\gpu\\lib\\site-packages (from aiohttp!=4.0.0a0,!=4.0.0a1->s3fs) (23.1.0)\n",
      "Requirement already satisfied: frozenlist>=1.1.1 in c:\\users\\tomal\\anaconda3\\envs\\gpu\\lib\\site-packages (from aiohttp!=4.0.0a0,!=4.0.0a1->s3fs) (1.6.0)\n",
      "Requirement already satisfied: propcache>=0.2.0 in c:\\users\\tomal\\anaconda3\\envs\\gpu\\lib\\site-packages (from aiohttp!=4.0.0a0,!=4.0.0a1->s3fs) (0.3.1)\n",
      "Requirement already satisfied: yarl<2.0,>=1.17.0 in c:\\users\\tomal\\anaconda3\\envs\\gpu\\lib\\site-packages (from aiohttp!=4.0.0a0,!=4.0.0a1->s3fs) (1.20.0)\n",
      "Requirement already satisfied: urllib3!=2.2.0,<3,>=1.25.4 in c:\\users\\tomal\\anaconda3\\envs\\gpu\\lib\\site-packages (from botocore<1.37.2,>=1.37.0->aiobotocore<3.0.0,>=2.5.4->s3fs) (2.2.2)\n",
      "Requirement already satisfied: typing-extensions>=4.1.0 in c:\\users\\tomal\\anaconda3\\envs\\gpu\\lib\\site-packages (from multidict<7.0.0,>=6.0.0->aiobotocore<3.0.0,>=2.5.4->s3fs) (4.11.0)\n",
      "Requirement already satisfied: six>=1.5 in c:\\users\\tomal\\anaconda3\\envs\\gpu\\lib\\site-packages (from python-dateutil<3.0.0,>=2.1->aiobotocore<3.0.0,>=2.5.4->s3fs) (1.16.0)\n",
      "Requirement already satisfied: idna>=2.0 in c:\\users\\tomal\\anaconda3\\envs\\gpu\\lib\\site-packages (from yarl<2.0,>=1.17.0->aiohttp!=4.0.0a0,!=4.0.0a1->s3fs) (3.7)\n"
     ]
    }
   ],
   "source": [
    "# ==============================#\n",
    "# 0.  Install / import packages #\n",
    "# ==============================#\n",
    "!pip install fsspec s3fs \n",
    "!pip install --upgrade huggingface_hub\n",
    "\n",
    "import re\n",
    "import numpy as np\n",
    "import pandas as pd\n",
    "import tensorflow as tf\n",
    "import matplotlib.pyplot as plt\n",
    "from tensorflow.keras.preprocessing.text import Tokenizer\n",
    "from tensorflow.keras.preprocessing.sequence import pad_sequences\n"
   ]
  },
  {
   "cell_type": "code",
   "execution_count": 38,
   "id": "90bd3d96",
   "metadata": {},
   "outputs": [
    {
     "name": "stdout",
     "output_type": "stream",
     "text": [
      "Train / Val / Test sizes: 31232 5205 5206\n"
     ]
    },
    {
     "data": {
      "text/html": [
       "<div>\n",
       "<style scoped>\n",
       "    .dataframe tbody tr th:only-of-type {\n",
       "        vertical-align: middle;\n",
       "    }\n",
       "\n",
       "    .dataframe tbody tr th {\n",
       "        vertical-align: top;\n",
       "    }\n",
       "\n",
       "    .dataframe thead th {\n",
       "        text-align: right;\n",
       "    }\n",
       "</style>\n",
       "<table border=\"1\" class=\"dataframe\">\n",
       "  <thead>\n",
       "    <tr style=\"text-align: right;\">\n",
       "      <th></th>\n",
       "      <th>id</th>\n",
       "      <th>text</th>\n",
       "      <th>label</th>\n",
       "      <th>sentiment</th>\n",
       "    </tr>\n",
       "  </thead>\n",
       "  <tbody>\n",
       "    <tr>\n",
       "      <th>0</th>\n",
       "      <td>9536</td>\n",
       "      <td>Cooking microwave pizzas, yummy</td>\n",
       "      <td>2</td>\n",
       "      <td>positive</td>\n",
       "    </tr>\n",
       "    <tr>\n",
       "      <th>1</th>\n",
       "      <td>6135</td>\n",
       "      <td>Any plans of allowing sub tasks to show up in ...</td>\n",
       "      <td>1</td>\n",
       "      <td>neutral</td>\n",
       "    </tr>\n",
       "    <tr>\n",
       "      <th>2</th>\n",
       "      <td>17697</td>\n",
       "      <td>I love the humor, I just reworded it. Like sa...</td>\n",
       "      <td>2</td>\n",
       "      <td>positive</td>\n",
       "    </tr>\n",
       "    <tr>\n",
       "      <th>3</th>\n",
       "      <td>14182</td>\n",
       "      <td>naw idk what ur talkin about</td>\n",
       "      <td>1</td>\n",
       "      <td>neutral</td>\n",
       "    </tr>\n",
       "    <tr>\n",
       "      <th>4</th>\n",
       "      <td>17840</td>\n",
       "      <td>That sucks to hear. I hate days like that</td>\n",
       "      <td>0</td>\n",
       "      <td>negative</td>\n",
       "    </tr>\n",
       "  </tbody>\n",
       "</table>\n",
       "</div>"
      ],
      "text/plain": [
       "      id                                               text  label sentiment\n",
       "0   9536                    Cooking microwave pizzas, yummy      2  positive\n",
       "1   6135  Any plans of allowing sub tasks to show up in ...      1   neutral\n",
       "2  17697   I love the humor, I just reworded it. Like sa...      2  positive\n",
       "3  14182                       naw idk what ur talkin about      1   neutral\n",
       "4  17840          That sucks to hear. I hate days like that      0  negative"
      ]
     },
     "execution_count": 38,
     "metadata": {},
     "output_type": "execute_result"
    }
   ],
   "source": [
    "# ==============================#\n",
    "# 1.  Load Hugging Face splits  #\n",
    "# ==============================#\n",
    "DATASET_ROOT = \"hf://datasets/Sp1786/multiclass-sentiment-analysis-dataset/\"\n",
    "splits      = {\"train\": \"train_df.csv\",\n",
    "               \"validation\": \"val_df.csv\",\n",
    "               \"test\": \"test_df.csv\"}\n",
    "\n",
    "train_df = pd.read_csv(DATASET_ROOT + splits[\"train\"])\n",
    "val_df   = pd.read_csv(DATASET_ROOT + splits[\"validation\"])\n",
    "test_df  = pd.read_csv(DATASET_ROOT + splits[\"test\"])\n",
    "\n",
    "print(\"Train / Val / Test sizes:\",\n",
    "      len(train_df), len(val_df), len(test_df))\n",
    "train_df.head()\n"
   ]
  },
  {
   "cell_type": "code",
   "execution_count": 39,
   "id": "ed12925f",
   "metadata": {},
   "outputs": [],
   "source": [
    "# ===========================================#\n",
    "# 2.  Cleaning helper and basic text cleanup #\n",
    "#      (fixed for NaN values in \"text\")      #\n",
    "# ===========================================#\n",
    "def clean_text(text: str) -> str:\n",
    "    if pd.isna(text):        # handle missing entries\n",
    "        return \"\"\n",
    "    text = re.sub(r'<.*?>', '', text)        # strip HTML\n",
    "    text = re.sub(r'[^a-zA-Z\\s]', '', text)  # keep letters / spaces only\n",
    "    return text.lower().strip()\n",
    "\n",
    "for split in (train_df, val_df, test_df):\n",
    "    split[\"text\"] = split[\"text\"].fillna(\"\").apply(clean_text)\n"
   ]
  },
  {
   "cell_type": "code",
   "execution_count": 40,
   "id": "5048fd3c",
   "metadata": {},
   "outputs": [],
   "source": [
    "# ============================================#\n",
    "# 3.  Tokenization -> integer sequences, pad  #\n",
    "# ============================================#\n",
    "VOCAB_SIZE = 20_000\n",
    "MAX_LEN    = 200\n",
    "\n",
    "tokenizer = Tokenizer(num_words=VOCAB_SIZE,\n",
    "                      oov_token=\"<OOV>\")\n",
    "tokenizer.fit_on_texts(train_df[\"text\"])\n",
    "\n",
    "def text_to_padded(text_series):\n",
    "    seqs = tokenizer.texts_to_sequences(text_series)\n",
    "    return pad_sequences(seqs, maxlen=MAX_LEN,\n",
    "                         padding=\"post\", truncating=\"post\")\n",
    "\n",
    "X_train = text_to_padded(train_df[\"text\"])\n",
    "X_val   = text_to_padded(val_df[\"text\"])\n",
    "X_test  = text_to_padded(test_df[\"text\"])\n",
    "\n",
    "y_train = train_df[\"label\"].values\n",
    "y_val   = val_df[\"label\"].values\n",
    "y_test  = test_df[\"label\"].values\n"
   ]
  },
  {
   "cell_type": "code",
   "execution_count": 41,
   "id": "a8feb385",
   "metadata": {},
   "outputs": [
    {
     "name": "stdout",
     "output_type": "stream",
     "text": [
      "Model: \"sequential_4\"\n",
      "_________________________________________________________________\n",
      " Layer (type)                Output Shape              Param #   \n",
      "=================================================================\n",
      " embedding_4 (Embedding)     (None, 200, 128)          2560000   \n",
      "                                                                 \n",
      " bidirectional_6 (Bidirectio  (None, 128)              98816     \n",
      " nal)                                                            \n",
      "                                                                 \n",
      " dropout_4 (Dropout)         (None, 128)               0         \n",
      "                                                                 \n",
      " dense_8 (Dense)             (None, 32)                4128      \n",
      "                                                                 \n",
      " batch_normalization_2 (Batc  (None, 32)               128       \n",
      " hNormalization)                                                 \n",
      "                                                                 \n",
      " dropout_5 (Dropout)         (None, 32)                0         \n",
      "                                                                 \n",
      " dense_9 (Dense)             (None, 3)                 99        \n",
      "                                                                 \n",
      "=================================================================\n",
      "Total params: 2,663,171\n",
      "Trainable params: 2,663,107\n",
      "Non-trainable params: 64\n",
      "_________________________________________________________________\n"
     ]
    }
   ],
   "source": [
    "# ========================================================= #\n",
    "#  4. Build & compile the RNN (Bi‑LSTM) for 3‑class labels  #\n",
    "# ========================================================= #\n",
    "from tensorflow.keras.models import Sequential\n",
    "from tensorflow.keras.layers import (Embedding, Bidirectional, LSTM,\n",
    "                                     Dropout, Dense, BatchNormalization)\n",
    "from tensorflow.keras.optimizers import Adam\n",
    "from tensorflow.keras.regularizers import l2\n",
    "\n",
    "VOCAB_SIZE = 20_000   # same as tokenizer.num_words\n",
    "EMBED_DIM  = 128\n",
    "MAX_LEN    = 200      # same as padding length\n",
    "\n",
    "model = Sequential([\n",
    "    Embedding(input_dim=VOCAB_SIZE, output_dim=EMBED_DIM, input_length=MAX_LEN),\n",
    "\n",
    "    Bidirectional(LSTM(64, return_sequences=False)),\n",
    "\n",
    "    Dropout(0.5),\n",
    "\n",
    "    Dense(32, activation='relu', kernel_regularizer=l2(0.12)),\n",
    "    BatchNormalization(),\n",
    "    Dropout(0.6),\n",
    "\n",
    "    Dense(3, activation='softmax')  # ⚠️ 3 units + softmax for multi‑class\n",
    "])\n",
    "\n",
    "model.compile(\n",
    "    optimizer=Adam(learning_rate=0.003),\n",
    "    loss='sparse_categorical_crossentropy',  # ⚠️ multi‑class loss\n",
    "    metrics=['accuracy']\n",
    ")\n",
    "\n",
    "model.summary()\n"
   ]
  },
  {
   "cell_type": "code",
   "execution_count": null,
   "id": "6d680453",
   "metadata": {},
   "outputs": [
    {
     "name": "stdout",
     "output_type": "stream",
     "text": [
      "Epoch 1/10\n",
      "244/244 [==============================] - 11s 33ms/step - loss: 1.4371 - accuracy: 0.5364 - val_loss: 0.9975 - val_accuracy: 0.5036\n",
      "Epoch 2/10\n",
      "244/244 [==============================] - 7s 30ms/step - loss: 0.7704 - accuracy: 0.6730 - val_loss: 0.8501 - val_accuracy: 0.6027\n",
      "Epoch 3/10\n",
      "244/244 [==============================] - 7s 30ms/step - loss: 0.6761 - accuracy: 0.7252 - val_loss: 0.8106 - val_accuracy: 0.6384\n",
      "Epoch 4/10\n",
      "244/244 [==============================] - 7s 30ms/step - loss: 0.6047 - accuracy: 0.7665 - val_loss: 0.8553 - val_accuracy: 0.6638\n",
      "Epoch 5/10\n",
      "244/244 [==============================] - 7s 30ms/step - loss: 0.5485 - accuracy: 0.7953 - val_loss: 0.9286 - val_accuracy: 0.6588\n",
      "Epoch 6/10\n",
      "244/244 [==============================] - 8s 31ms/step - loss: 0.4973 - accuracy: 0.8172 - val_loss: 1.0279 - val_accuracy: 0.6738\n",
      "Epoch 7/10\n",
      "244/244 [==============================] - 8s 32ms/step - loss: 0.4597 - accuracy: 0.8321 - val_loss: 1.0309 - val_accuracy: 0.6657\n",
      "Epoch 8/10\n",
      "244/244 [==============================] - 8s 33ms/step - loss: 0.4267 - accuracy: 0.8461 - val_loss: 1.0144 - val_accuracy: 0.6642\n",
      "Epoch 9/10\n",
      "244/244 [==============================] - 8s 33ms/step - loss: 0.3874 - accuracy: 0.8638 - val_loss: 1.2612 - val_accuracy: 0.6555\n",
      "Epoch 10/10\n",
      "244/244 [==============================] - 8s 32ms/step - loss: 0.3744 - accuracy: 0.8697 - val_loss: 1.2354 - val_accuracy: 0.6553\n"
     ]
    }
   ],
   "source": [
    "# ==============================#\n",
    "# 5.  Train                     #\n",
    "# ==============================#\n",
    "EPOCHS      = 10\n",
    "BATCH_SIZE  = 128\n",
    "\n",
    "history = model.fit(\n",
    "    X_train, y_train,\n",
    "    epochs=EPOCHS,\n",
    "    batch_size=BATCH_SIZE,\n",
    "    validation_data=(X_val, y_val)\n",
    ")\n"
   ]
  },
  {
   "cell_type": "code",
   "execution_count": 43,
   "id": "46f87c17",
   "metadata": {},
   "outputs": [
    {
     "data": {
      "image/png": "[encoded data removed]",
      "text/plain": [
       "<Figure size 600x400 with 1 Axes>"
      ]
     },
     "metadata": {},
     "output_type": "display_data"
    },
    {
     "data": {
      "image/png": "[encoded data removed]",
      "text/plain": [
       "<Figure size 600x400 with 1 Axes>"
      ]
     },
     "metadata": {},
     "output_type": "display_data"
    }
   ],
   "source": [
    "# =================================#\n",
    "# 6.  Plot accuracy / loss curves  #\n",
    "# =================================#\n",
    "plt.figure(figsize=(6,4))\n",
    "plt.plot(history.history[\"accuracy\"],     label=\"Train acc\")\n",
    "plt.plot(history.history[\"val_accuracy\"], label=\"Val acc\")\n",
    "plt.xlabel(\"Epoch\"); plt.ylabel(\"Accuracy\"); plt.legend(); plt.show()\n",
    "\n",
    "plt.figure(figsize=(6,4))\n",
    "plt.plot(history.history[\"loss\"],     label=\"Train loss\")\n",
    "plt.plot(history.history[\"val_loss\"], label=\"Val loss\")\n",
    "plt.xlabel(\"Epoch\"); plt.ylabel(\"Loss\"); plt.legend(); plt.show()\n"
   ]
  },
  {
   "cell_type": "code",
   "execution_count": 44,
   "id": "06b7c6c7",
   "metadata": {},
   "outputs": [
    {
     "name": "stdout",
     "output_type": "stream",
     "text": [
      "\n",
      "Test accuracy: 0.640\n"
     ]
    }
   ],
   "source": [
    "# ==============================#\n",
    "# 7.  Evaluate on the test set  #\n",
    "# ==============================#\n",
    "test_loss, test_acc = model.evaluate(X_test, y_test, verbose=0)\n",
    "print(f\"\\nTest accuracy: {test_acc:.3f}\")\n"
   ]
  },
  {
   "cell_type": "code",
   "execution_count": 45,
   "id": "0933d06f",
   "metadata": {},
   "outputs": [
    {
     "name": "stdout",
     "output_type": "stream",
     "text": [
      "Utterly disappointing; the acting felt wooden.                →  negative\n",
      "Let's play a game of chess instead.                           →  neutral\n",
      "Can't wait to see the new movie!                              →  positive\n"
     ]
    }
   ],
   "source": [
    "# ======================================#\n",
    "# 8.  Inference on custom written text  #\n",
    "# ======================================#\n",
    "INDEX2LABEL = {0: \"negative\", 1: \"neutral\", 2: \"positive\"}\n",
    "\n",
    "samples = [\n",
    "    \"Utterly disappointing; the acting felt wooden.\",\n",
    "    \"Let's play a game of chess instead.\",\n",
    "    \"Can't wait to see the new movie!\",\n",
    "]\n",
    "\n",
    "sample_pad = text_to_padded(samples)\n",
    "probs      = model.predict(sample_pad, verbose=0)\n",
    "preds      = probs.argmax(axis=1)\n",
    "\n",
    "for txt, pred in zip(samples, preds):\n",
    "    print(f\"{txt[:60]:<60}  →  {INDEX2LABEL[pred]}\")\n"
   ]
  },
  {
   "cell_type": "code",
   "execution_count": 49,
   "id": "b881f6e7",
   "metadata": {},
   "outputs": [
    {
     "name": "stderr",
     "output_type": "stream",
     "text": [
      "WARNING:absl:Found untraced functions such as lstm_cell_19_layer_call_fn, lstm_cell_19_layer_call_and_return_conditional_losses, lstm_cell_20_layer_call_fn, lstm_cell_20_layer_call_and_return_conditional_losses while saving (showing 4 of 4). These functions will not be directly callable after loading.\n"
     ]
    },
    {
     "name": "stdout",
     "output_type": "stream",
     "text": [
      "INFO:tensorflow:Assets written to: sentiment_bilstm_savedmodel\\assets\n"
     ]
    },
    {
     "name": "stderr",
     "output_type": "stream",
     "text": [
      "INFO:tensorflow:Assets written to: sentiment_bilstm_savedmodel\\assets\n"
     ]
    }
   ],
   "source": [
    "# ------------------------------------#\n",
    "#  SAVE: model + tokenizer to disk    #\n",
    "# ------------------------------------#\n",
    "MODEL_PATH      = \"sentiment_bilstm_savedmodel\"   # folder for TF‑SavedModel\n",
    "WEIGHTS_PATH    = \"sentiment_bilstm_best.h5\"      # weights‑only backup (optional)\n",
    "TOKENIZER_PATH  = \"tokenizer.json\"                # vocabulary + config\n",
    "\n",
    "# ▸ A. whole model (architecture + weights + optimizer state)\n",
    "model.save(MODEL_PATH)          # creates a directory with TF SavedModel format\n",
    "\n",
    "# ▸ B. or, just the weights (good for ModelCheckpoint callbacks)\n",
    "model.save_weights(WEIGHTS_PATH)\n",
    "\n",
    "# ▸ C. save the tokenizer (needed to pre‑process new text later)\n",
    "# ✅  write the JSON string directly\n",
    "with open(TOKENIZER_PATH, \"w\", encoding=\"utf-8\") as f:\n",
    "    f.write(tokenizer.to_json())\n",
    "\n"
   ]
  },
  {
   "cell_type": "code",
   "execution_count": null,
   "id": "afdc9418",
   "metadata": {},
   "outputs": [],
   "source": [
    "# ------------------------------------#\n",
    "#  LOAD: model + tokenizer from disk  #\n",
    "# ------------------------------------#\n",
    "import tensorflow as tf\n",
    "from tensorflow.keras.preprocessing.sequence import pad_sequences\n",
    "from tensorflow.keras.preprocessing.text import tokenizer_from_json\n",
    "\n",
    "MODEL_PATH     = \"sentiment_bilstm_savedmodel\"\n",
    "TOKENIZER_PATH = \"tokenizer.json\"\n",
    "MAX_LEN        = 200          # same padding length you trained with\n",
    "\n",
    "# ▸ A. load the full model\n",
    "loaded_model = tf.keras.models.load_model(MODEL_PATH)\n",
    "\n",
    "# ▸ B. load the tokenizer\n",
    "with open(TOKENIZER_PATH, \"r\", encoding=\"utf-8\") as f:\n",
    "    token_json_str = f.read()          # read as raw string\n",
    "\n",
    "loaded_tokenizer = tokenizer_from_json(token_json_str)\n"
   ]
  },
  {
   "cell_type": "code",
   "execution_count": 59,
   "id": "db9fe50d",
   "metadata": {},
   "outputs": [
    {
     "name": "stdout",
     "output_type": "stream",
     "text": [
      "1/1 [==============================] - 0s 35ms/step\n",
      "Predicted sentiment: negative\n"
     ]
    }
   ],
   "source": [
    "# ------------- quick sanity check ----------------\n",
    "sample = [\"I need to kill you.\"]\n",
    "seq    = loaded_tokenizer.texts_to_sequences(sample)\n",
    "padded = pad_sequences(seq, maxlen=MAX_LEN, padding=\"post\", truncating=\"post\")\n",
    "pred   = loaded_model.predict(padded).argmax(axis=1)[0]\n",
    "\n",
    "label_map = {0: \"negative\", 1: \"neutral\", 2: \"positive\"}\n",
    "print(\"Predicted sentiment:\", label_map[pred])"
   ]
  }
 ],
 "metadata": {
  "kernelspec": {
   "display_name": "GPU",
   "language": "python",
   "name": "python3"
  },
  "language_info": {
   "codemirror_mode": {
    "name": "ipython",
    "version": 3
   },
   "file_extension": ".py",
   "mimetype": "text/x-python",
   "name": "python",
   "nbconvert_exporter": "python",
   "pygments_lexer": "ipython3",
   "version": "3.10.14"
  }
 },
 "nbformat": 4,
 "nbformat_minor": 5
}
